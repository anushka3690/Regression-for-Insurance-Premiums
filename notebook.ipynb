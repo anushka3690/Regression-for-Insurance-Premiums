{
 "cells": [
  {
   "cell_type": "markdown",
   "id": "5d5a5e62",
   "metadata": {},
   "source": [
    "Predicting Insurance Premiums"
   ]
  },
  {
   "cell_type": "code",
   "execution_count": 44,
   "id": "cc499b6d",
   "metadata": {},
   "outputs": [],
   "source": [
    "import numpy as np\n",
    "import pandas as pd\n",
    "import matplotlib.pyplot as plt\n",
    "import seaborn as sns\n",
    "from scipy.stats import pointbiserialr"
   ]
  },
  {
   "cell_type": "code",
   "execution_count": 45,
   "id": "3aeb21d1",
   "metadata": {},
   "outputs": [],
   "source": [
    "df = pd.read_csv('train.csv')"
   ]
  },
  {
   "cell_type": "code",
   "execution_count": 46,
   "id": "a082fef8",
   "metadata": {},
   "outputs": [
    {
     "data": {
      "text/html": [
       "<div>\n",
       "<style scoped>\n",
       "    .dataframe tbody tr th:only-of-type {\n",
       "        vertical-align: middle;\n",
       "    }\n",
       "\n",
       "    .dataframe tbody tr th {\n",
       "        vertical-align: top;\n",
       "    }\n",
       "\n",
       "    .dataframe thead th {\n",
       "        text-align: right;\n",
       "    }\n",
       "</style>\n",
       "<table border=\"1\" class=\"dataframe\">\n",
       "  <thead>\n",
       "    <tr style=\"text-align: right;\">\n",
       "      <th></th>\n",
       "      <th>id</th>\n",
       "      <th>Age</th>\n",
       "      <th>Gender</th>\n",
       "      <th>Annual Income</th>\n",
       "      <th>Marital Status</th>\n",
       "      <th>Number of Dependents</th>\n",
       "      <th>Education Level</th>\n",
       "      <th>Occupation</th>\n",
       "      <th>Health Score</th>\n",
       "      <th>Location</th>\n",
       "      <th>...</th>\n",
       "      <th>Previous Claims</th>\n",
       "      <th>Vehicle Age</th>\n",
       "      <th>Credit Score</th>\n",
       "      <th>Insurance Duration</th>\n",
       "      <th>Policy Start Date</th>\n",
       "      <th>Customer Feedback</th>\n",
       "      <th>Smoking Status</th>\n",
       "      <th>Exercise Frequency</th>\n",
       "      <th>Property Type</th>\n",
       "      <th>Premium Amount</th>\n",
       "    </tr>\n",
       "  </thead>\n",
       "  <tbody>\n",
       "    <tr>\n",
       "      <th>29843</th>\n",
       "      <td>29843</td>\n",
       "      <td>29.0</td>\n",
       "      <td>Female</td>\n",
       "      <td>38216.0</td>\n",
       "      <td>Married</td>\n",
       "      <td>2.0</td>\n",
       "      <td>Bachelor's</td>\n",
       "      <td>Employed</td>\n",
       "      <td>32.010959</td>\n",
       "      <td>Urban</td>\n",
       "      <td>...</td>\n",
       "      <td>0.0</td>\n",
       "      <td>11.0</td>\n",
       "      <td>847.0</td>\n",
       "      <td>6.0</td>\n",
       "      <td>2022-06-21 15:21:39.206847</td>\n",
       "      <td>Average</td>\n",
       "      <td>No</td>\n",
       "      <td>Rarely</td>\n",
       "      <td>Apartment</td>\n",
       "      <td>723.0</td>\n",
       "    </tr>\n",
       "    <tr>\n",
       "      <th>1153815</th>\n",
       "      <td>1153815</td>\n",
       "      <td>20.0</td>\n",
       "      <td>Female</td>\n",
       "      <td>15893.0</td>\n",
       "      <td>Divorced</td>\n",
       "      <td>0.0</td>\n",
       "      <td>PhD</td>\n",
       "      <td>NaN</td>\n",
       "      <td>38.822623</td>\n",
       "      <td>Suburban</td>\n",
       "      <td>...</td>\n",
       "      <td>NaN</td>\n",
       "      <td>8.0</td>\n",
       "      <td>NaN</td>\n",
       "      <td>8.0</td>\n",
       "      <td>2023-02-09 15:21:39.109552</td>\n",
       "      <td>Poor</td>\n",
       "      <td>No</td>\n",
       "      <td>Daily</td>\n",
       "      <td>Condo</td>\n",
       "      <td>1426.0</td>\n",
       "    </tr>\n",
       "    <tr>\n",
       "      <th>814705</th>\n",
       "      <td>814705</td>\n",
       "      <td>64.0</td>\n",
       "      <td>Female</td>\n",
       "      <td>14991.0</td>\n",
       "      <td>Divorced</td>\n",
       "      <td>1.0</td>\n",
       "      <td>PhD</td>\n",
       "      <td>Unemployed</td>\n",
       "      <td>36.120903</td>\n",
       "      <td>Urban</td>\n",
       "      <td>...</td>\n",
       "      <td>NaN</td>\n",
       "      <td>8.0</td>\n",
       "      <td>622.0</td>\n",
       "      <td>9.0</td>\n",
       "      <td>2022-07-05 15:21:39.236064</td>\n",
       "      <td>Average</td>\n",
       "      <td>Yes</td>\n",
       "      <td>Daily</td>\n",
       "      <td>House</td>\n",
       "      <td>661.0</td>\n",
       "    </tr>\n",
       "    <tr>\n",
       "      <th>50019</th>\n",
       "      <td>50019</td>\n",
       "      <td>39.0</td>\n",
       "      <td>Female</td>\n",
       "      <td>17663.0</td>\n",
       "      <td>Single</td>\n",
       "      <td>1.0</td>\n",
       "      <td>Bachelor's</td>\n",
       "      <td>Unemployed</td>\n",
       "      <td>16.270954</td>\n",
       "      <td>Rural</td>\n",
       "      <td>...</td>\n",
       "      <td>0.0</td>\n",
       "      <td>16.0</td>\n",
       "      <td>607.0</td>\n",
       "      <td>2.0</td>\n",
       "      <td>2019-12-10 15:21:39.093681</td>\n",
       "      <td>Average</td>\n",
       "      <td>No</td>\n",
       "      <td>Rarely</td>\n",
       "      <td>Condo</td>\n",
       "      <td>248.0</td>\n",
       "    </tr>\n",
       "    <tr>\n",
       "      <th>553714</th>\n",
       "      <td>553714</td>\n",
       "      <td>27.0</td>\n",
       "      <td>Male</td>\n",
       "      <td>16891.0</td>\n",
       "      <td>Divorced</td>\n",
       "      <td>4.0</td>\n",
       "      <td>PhD</td>\n",
       "      <td>Unemployed</td>\n",
       "      <td>21.494920</td>\n",
       "      <td>Suburban</td>\n",
       "      <td>...</td>\n",
       "      <td>NaN</td>\n",
       "      <td>14.0</td>\n",
       "      <td>576.0</td>\n",
       "      <td>7.0</td>\n",
       "      <td>2021-12-22 15:21:39.146733</td>\n",
       "      <td>Average</td>\n",
       "      <td>Yes</td>\n",
       "      <td>Daily</td>\n",
       "      <td>House</td>\n",
       "      <td>26.0</td>\n",
       "    </tr>\n",
       "    <tr>\n",
       "      <th>451529</th>\n",
       "      <td>451529</td>\n",
       "      <td>47.0</td>\n",
       "      <td>Female</td>\n",
       "      <td>5075.0</td>\n",
       "      <td>Divorced</td>\n",
       "      <td>1.0</td>\n",
       "      <td>PhD</td>\n",
       "      <td>NaN</td>\n",
       "      <td>37.366940</td>\n",
       "      <td>Urban</td>\n",
       "      <td>...</td>\n",
       "      <td>NaN</td>\n",
       "      <td>6.0</td>\n",
       "      <td>590.0</td>\n",
       "      <td>7.0</td>\n",
       "      <td>2023-11-06 15:21:39.207847</td>\n",
       "      <td>Poor</td>\n",
       "      <td>No</td>\n",
       "      <td>Weekly</td>\n",
       "      <td>Apartment</td>\n",
       "      <td>669.0</td>\n",
       "    </tr>\n",
       "    <tr>\n",
       "      <th>918947</th>\n",
       "      <td>918947</td>\n",
       "      <td>41.0</td>\n",
       "      <td>Female</td>\n",
       "      <td>21688.0</td>\n",
       "      <td>Single</td>\n",
       "      <td>3.0</td>\n",
       "      <td>PhD</td>\n",
       "      <td>NaN</td>\n",
       "      <td>29.663936</td>\n",
       "      <td>Rural</td>\n",
       "      <td>...</td>\n",
       "      <td>NaN</td>\n",
       "      <td>9.0</td>\n",
       "      <td>721.0</td>\n",
       "      <td>5.0</td>\n",
       "      <td>2023-03-29 15:21:39.202448</td>\n",
       "      <td>NaN</td>\n",
       "      <td>No</td>\n",
       "      <td>Rarely</td>\n",
       "      <td>Apartment</td>\n",
       "      <td>427.0</td>\n",
       "    </tr>\n",
       "    <tr>\n",
       "      <th>623497</th>\n",
       "      <td>623497</td>\n",
       "      <td>60.0</td>\n",
       "      <td>Female</td>\n",
       "      <td>47776.0</td>\n",
       "      <td>Divorced</td>\n",
       "      <td>1.0</td>\n",
       "      <td>PhD</td>\n",
       "      <td>NaN</td>\n",
       "      <td>12.908433</td>\n",
       "      <td>Rural</td>\n",
       "      <td>...</td>\n",
       "      <td>NaN</td>\n",
       "      <td>7.0</td>\n",
       "      <td>343.0</td>\n",
       "      <td>9.0</td>\n",
       "      <td>2022-03-05 15:21:39.102694</td>\n",
       "      <td>Average</td>\n",
       "      <td>No</td>\n",
       "      <td>Monthly</td>\n",
       "      <td>House</td>\n",
       "      <td>541.0</td>\n",
       "    </tr>\n",
       "    <tr>\n",
       "      <th>393211</th>\n",
       "      <td>393211</td>\n",
       "      <td>44.0</td>\n",
       "      <td>Male</td>\n",
       "      <td>5907.0</td>\n",
       "      <td>Single</td>\n",
       "      <td>1.0</td>\n",
       "      <td>High School</td>\n",
       "      <td>Unemployed</td>\n",
       "      <td>23.854378</td>\n",
       "      <td>Suburban</td>\n",
       "      <td>...</td>\n",
       "      <td>NaN</td>\n",
       "      <td>12.0</td>\n",
       "      <td>491.0</td>\n",
       "      <td>3.0</td>\n",
       "      <td>2021-12-05 15:21:39.246098</td>\n",
       "      <td>Good</td>\n",
       "      <td>No</td>\n",
       "      <td>Monthly</td>\n",
       "      <td>Apartment</td>\n",
       "      <td>3404.0</td>\n",
       "    </tr>\n",
       "    <tr>\n",
       "      <th>652790</th>\n",
       "      <td>652790</td>\n",
       "      <td>45.0</td>\n",
       "      <td>Male</td>\n",
       "      <td>25863.0</td>\n",
       "      <td>Single</td>\n",
       "      <td>4.0</td>\n",
       "      <td>Master's</td>\n",
       "      <td>Self-Employed</td>\n",
       "      <td>48.040415</td>\n",
       "      <td>Rural</td>\n",
       "      <td>...</td>\n",
       "      <td>0.0</td>\n",
       "      <td>7.0</td>\n",
       "      <td>NaN</td>\n",
       "      <td>9.0</td>\n",
       "      <td>2023-08-25 15:21:39.130190</td>\n",
       "      <td>NaN</td>\n",
       "      <td>No</td>\n",
       "      <td>Rarely</td>\n",
       "      <td>Apartment</td>\n",
       "      <td>446.0</td>\n",
       "    </tr>\n",
       "  </tbody>\n",
       "</table>\n",
       "<p>10 rows × 21 columns</p>\n",
       "</div>"
      ],
      "text/plain": [
       "              id   Age  Gender  Annual Income Marital Status  \\\n",
       "29843      29843  29.0  Female        38216.0        Married   \n",
       "1153815  1153815  20.0  Female        15893.0       Divorced   \n",
       "814705    814705  64.0  Female        14991.0       Divorced   \n",
       "50019      50019  39.0  Female        17663.0         Single   \n",
       "553714    553714  27.0    Male        16891.0       Divorced   \n",
       "451529    451529  47.0  Female         5075.0       Divorced   \n",
       "918947    918947  41.0  Female        21688.0         Single   \n",
       "623497    623497  60.0  Female        47776.0       Divorced   \n",
       "393211    393211  44.0    Male         5907.0         Single   \n",
       "652790    652790  45.0    Male        25863.0         Single   \n",
       "\n",
       "         Number of Dependents Education Level     Occupation  Health Score  \\\n",
       "29843                     2.0      Bachelor's       Employed     32.010959   \n",
       "1153815                   0.0             PhD            NaN     38.822623   \n",
       "814705                    1.0             PhD     Unemployed     36.120903   \n",
       "50019                     1.0      Bachelor's     Unemployed     16.270954   \n",
       "553714                    4.0             PhD     Unemployed     21.494920   \n",
       "451529                    1.0             PhD            NaN     37.366940   \n",
       "918947                    3.0             PhD            NaN     29.663936   \n",
       "623497                    1.0             PhD            NaN     12.908433   \n",
       "393211                    1.0     High School     Unemployed     23.854378   \n",
       "652790                    4.0        Master's  Self-Employed     48.040415   \n",
       "\n",
       "         Location  ... Previous Claims  Vehicle Age  Credit Score  \\\n",
       "29843       Urban  ...             0.0         11.0         847.0   \n",
       "1153815  Suburban  ...             NaN          8.0           NaN   \n",
       "814705      Urban  ...             NaN          8.0         622.0   \n",
       "50019       Rural  ...             0.0         16.0         607.0   \n",
       "553714   Suburban  ...             NaN         14.0         576.0   \n",
       "451529      Urban  ...             NaN          6.0         590.0   \n",
       "918947      Rural  ...             NaN          9.0         721.0   \n",
       "623497      Rural  ...             NaN          7.0         343.0   \n",
       "393211   Suburban  ...             NaN         12.0         491.0   \n",
       "652790      Rural  ...             0.0          7.0           NaN   \n",
       "\n",
       "         Insurance Duration           Policy Start Date Customer Feedback  \\\n",
       "29843                   6.0  2022-06-21 15:21:39.206847           Average   \n",
       "1153815                 8.0  2023-02-09 15:21:39.109552              Poor   \n",
       "814705                  9.0  2022-07-05 15:21:39.236064           Average   \n",
       "50019                   2.0  2019-12-10 15:21:39.093681           Average   \n",
       "553714                  7.0  2021-12-22 15:21:39.146733           Average   \n",
       "451529                  7.0  2023-11-06 15:21:39.207847              Poor   \n",
       "918947                  5.0  2023-03-29 15:21:39.202448               NaN   \n",
       "623497                  9.0  2022-03-05 15:21:39.102694           Average   \n",
       "393211                  3.0  2021-12-05 15:21:39.246098              Good   \n",
       "652790                  9.0  2023-08-25 15:21:39.130190               NaN   \n",
       "\n",
       "        Smoking Status Exercise Frequency Property Type Premium Amount  \n",
       "29843               No             Rarely     Apartment          723.0  \n",
       "1153815             No              Daily         Condo         1426.0  \n",
       "814705             Yes              Daily         House          661.0  \n",
       "50019               No             Rarely         Condo          248.0  \n",
       "553714             Yes              Daily         House           26.0  \n",
       "451529              No             Weekly     Apartment          669.0  \n",
       "918947              No             Rarely     Apartment          427.0  \n",
       "623497              No            Monthly         House          541.0  \n",
       "393211              No            Monthly     Apartment         3404.0  \n",
       "652790              No             Rarely     Apartment          446.0  \n",
       "\n",
       "[10 rows x 21 columns]"
      ]
     },
     "execution_count": 46,
     "metadata": {},
     "output_type": "execute_result"
    }
   ],
   "source": [
    "df.sample(10)"
   ]
  },
  {
   "cell_type": "code",
   "execution_count": 47,
   "id": "de8300c8",
   "metadata": {},
   "outputs": [
    {
     "name": "stdout",
     "output_type": "stream",
     "text": [
      "<class 'pandas.core.frame.DataFrame'>\n",
      "RangeIndex: 1200000 entries, 0 to 1199999\n",
      "Data columns (total 21 columns):\n",
      " #   Column                Non-Null Count    Dtype  \n",
      "---  ------                --------------    -----  \n",
      " 0   id                    1200000 non-null  int64  \n",
      " 1   Age                   1181295 non-null  float64\n",
      " 2   Gender                1200000 non-null  object \n",
      " 3   Annual Income         1155051 non-null  float64\n",
      " 4   Marital Status        1181471 non-null  object \n",
      " 5   Number of Dependents  1090328 non-null  float64\n",
      " 6   Education Level       1200000 non-null  object \n",
      " 7   Occupation            841925 non-null   object \n",
      " 8   Health Score          1125924 non-null  float64\n",
      " 9   Location              1200000 non-null  object \n",
      " 10  Policy Type           1200000 non-null  object \n",
      " 11  Previous Claims       835971 non-null   float64\n",
      " 12  Vehicle Age           1199994 non-null  float64\n",
      " 13  Credit Score          1062118 non-null  float64\n",
      " 14  Insurance Duration    1199999 non-null  float64\n",
      " 15  Policy Start Date     1200000 non-null  object \n",
      " 16  Customer Feedback     1122176 non-null  object \n",
      " 17  Smoking Status        1200000 non-null  object \n",
      " 18  Exercise Frequency    1200000 non-null  object \n",
      " 19  Property Type         1200000 non-null  object \n",
      " 20  Premium Amount        1200000 non-null  float64\n",
      "dtypes: float64(9), int64(1), object(11)\n",
      "memory usage: 192.3+ MB\n"
     ]
    }
   ],
   "source": [
    "df.info()"
   ]
  },
  {
   "cell_type": "code",
   "execution_count": 48,
   "id": "b01e6253",
   "metadata": {},
   "outputs": [
    {
     "data": {
      "text/plain": [
       "id                           0\n",
       "Age                      18705\n",
       "Gender                       0\n",
       "Annual Income            44949\n",
       "Marital Status           18529\n",
       "Number of Dependents    109672\n",
       "Education Level              0\n",
       "Occupation              358075\n",
       "Health Score             74076\n",
       "Location                     0\n",
       "Policy Type                  0\n",
       "Previous Claims         364029\n",
       "Vehicle Age                  6\n",
       "Credit Score            137882\n",
       "Insurance Duration           1\n",
       "Policy Start Date            0\n",
       "Customer Feedback        77824\n",
       "Smoking Status               0\n",
       "Exercise Frequency           0\n",
       "Property Type                0\n",
       "Premium Amount               0\n",
       "dtype: int64"
      ]
     },
     "execution_count": 48,
     "metadata": {},
     "output_type": "execute_result"
    }
   ],
   "source": [
    "df.isnull().sum()"
   ]
  },
  {
   "cell_type": "code",
   "execution_count": 49,
   "id": "1661bf54",
   "metadata": {},
   "outputs": [],
   "source": [
    "cat_cols = df.select_dtypes(include=['object']).columns\n",
    "num_cols = df.select_dtypes(exclude=['object']).columns"
   ]
  },
  {
   "cell_type": "code",
   "execution_count": 50,
   "id": "bc5eda82",
   "metadata": {},
   "outputs": [
    {
     "data": {
      "text/plain": [
       "Index(['Gender', 'Marital Status', 'Education Level', 'Occupation', 'Location',\n",
       "       'Policy Type', 'Policy Start Date', 'Customer Feedback',\n",
       "       'Smoking Status', 'Exercise Frequency', 'Property Type'],\n",
       "      dtype='object')"
      ]
     },
     "execution_count": 50,
     "metadata": {},
     "output_type": "execute_result"
    }
   ],
   "source": [
    "cat_cols"
   ]
  },
  {
   "cell_type": "code",
   "execution_count": 51,
   "id": "deb54242",
   "metadata": {},
   "outputs": [
    {
     "name": "stdout",
     "output_type": "stream",
     "text": [
      "Gender\n",
      "Male      602571\n",
      "Female    597429\n",
      "Name: count, dtype: int64\n",
      " null values = 0\n",
      " percentage of null values = 0.00%\n",
      "\n",
      "Marital Status\n",
      "Single      395391\n",
      "Married     394316\n",
      "Divorced    391764\n",
      "Name: count, dtype: int64\n",
      " null values = 18529\n",
      " percentage of null values = 1.54%\n",
      "\n",
      "Education Level\n",
      "Master's       303818\n",
      "PhD            303507\n",
      "Bachelor's     303234\n",
      "High School    289441\n",
      "Name: count, dtype: int64\n",
      " null values = 0\n",
      " percentage of null values = 0.00%\n",
      "\n",
      "Occupation\n",
      "Employed         282750\n",
      "Self-Employed    282645\n",
      "Unemployed       276530\n",
      "Name: count, dtype: int64\n",
      " null values = 358075\n",
      " percentage of null values = 29.84%\n",
      "\n",
      "Location\n",
      "Suburban    401542\n",
      "Rural       400947\n",
      "Urban       397511\n",
      "Name: count, dtype: int64\n",
      " null values = 0\n",
      " percentage of null values = 0.00%\n",
      "\n",
      "Policy Type\n",
      "Premium          401846\n",
      "Comprehensive    399600\n",
      "Basic            398554\n",
      "Name: count, dtype: int64\n",
      " null values = 0\n",
      " percentage of null values = 0.00%\n",
      "\n",
      "Policy Start Date\n",
      "2020-02-08 15:21:39.134960    142\n",
      "2022-02-02 15:21:39.134960    137\n",
      "2023-08-13 15:21:39.155231    137\n",
      "2022-08-30 15:21:39.134960    134\n",
      "2024-02-19 15:21:39.134960    118\n",
      "                             ... \n",
      "2022-09-24 15:21:39.199447      1\n",
      "2020-09-17 15:21:39.258696      1\n",
      "2021-08-20 15:21:39.286113      1\n",
      "2022-12-30 15:21:39.257696      1\n",
      "2024-07-22 15:21:39.217387      1\n",
      "Name: count, Length: 167381, dtype: int64\n",
      " null values = 0\n",
      " percentage of null values = 0.00%\n",
      "\n",
      "Customer Feedback\n",
      "Average    377905\n",
      "Poor       375518\n",
      "Good       368753\n",
      "Name: count, dtype: int64\n",
      " null values = 77824\n",
      " percentage of null values = 6.49%\n",
      "\n",
      "Smoking Status\n",
      "Yes    601873\n",
      "No     598127\n",
      "Name: count, dtype: int64\n",
      " null values = 0\n",
      " percentage of null values = 0.00%\n",
      "\n",
      "Exercise Frequency\n",
      "Weekly     306179\n",
      "Monthly    299830\n",
      "Rarely     299420\n",
      "Daily      294571\n",
      "Name: count, dtype: int64\n",
      " null values = 0\n",
      " percentage of null values = 0.00%\n",
      "\n",
      "Property Type\n",
      "House        400349\n",
      "Apartment    399978\n",
      "Condo        399673\n",
      "Name: count, dtype: int64\n",
      " null values = 0\n",
      " percentage of null values = 0.00%\n",
      "\n"
     ]
    }
   ],
   "source": [
    "for i in df[cat_cols]:\n",
    "    print(df[i].value_counts())\n",
    "    print(f\" null values = {df[i].isnull().sum()}\")\n",
    "    per_null = df[i].isnull().sum() / len(df) * 100\n",
    "    print(f\" percentage of null values = {per_null:.2f}%\")\n",
    "    print()"
   ]
  },
  {
   "cell_type": "code",
   "execution_count": 52,
   "id": "fbb2f7d7",
   "metadata": {},
   "outputs": [
    {
     "data": {
      "text/plain": [
       "Index(['id', 'Age', 'Annual Income', 'Number of Dependents', 'Health Score',\n",
       "       'Previous Claims', 'Vehicle Age', 'Credit Score', 'Insurance Duration',\n",
       "       'Premium Amount'],\n",
       "      dtype='object')"
      ]
     },
     "execution_count": 52,
     "metadata": {},
     "output_type": "execute_result"
    }
   ],
   "source": [
    "num_cols"
   ]
  },
  {
   "cell_type": "code",
   "execution_count": 53,
   "id": "124f6945",
   "metadata": {},
   "outputs": [
    {
     "data": {
      "text/plain": [
       "id                       0.000000\n",
       "Age                      1.558750\n",
       "Annual Income            3.745750\n",
       "Number of Dependents     9.139333\n",
       "Health Score             6.173000\n",
       "Previous Claims         30.335750\n",
       "Vehicle Age              0.000500\n",
       "Credit Score            11.490167\n",
       "Insurance Duration       0.000083\n",
       "Premium Amount           0.000000\n",
       "dtype: float64"
      ]
     },
     "execution_count": 53,
     "metadata": {},
     "output_type": "execute_result"
    }
   ],
   "source": [
    "(df[num_cols].isnull().sum() / len(df)) * 100"
   ]
  },
  {
   "cell_type": "code",
   "execution_count": 54,
   "id": "2350ecea",
   "metadata": {},
   "outputs": [
    {
     "data": {
      "image/png": "[encoded data removed]",
      "text/plain": [
       "<Figure size 1200x1000 with 2 Axes>"
      ]
     },
     "metadata": {},
     "output_type": "display_data"
    }
   ],
   "source": [
    "plt.figure(figsize=(12, 10))\n",
    "sns.heatmap(df[num_cols].corr(), annot=True, cmap='coolwarm', center=0, \n",
    "            square=True, linewidths=0.5)\n",
    "plt.title(\"Correlation Matrix Heatmap\")\n",
    "plt.show()"
   ]
  },
  {
   "cell_type": "code",
   "execution_count": 55,
   "id": "48bc2a7b",
   "metadata": {},
   "outputs": [],
   "source": [
    "#drop insurance duration column\n",
    "df.drop(columns=['Insurance Duration'], inplace=True)"
   ]
  },
  {
   "cell_type": "code",
   "execution_count": 56,
   "id": "cfafeed0",
   "metadata": {},
   "outputs": [
    {
     "name": "stdout",
     "output_type": "stream",
     "text": [
      "id                      0.000000\n",
      "Age                    -0.012532\n",
      "Annual Income           1.470357\n",
      "Number of Dependents   -0.013255\n",
      "Health Score            0.282187\n",
      "Previous Claims         0.905321\n",
      "Vehicle Age            -0.020409\n",
      "Credit Score           -0.113573\n",
      "Premium Amount          1.240915\n",
      "dtype: float64\n"
     ]
    }
   ],
   "source": [
    "from scipy.stats import skew\n",
    "# Correcting num_cols to contain numerical column names\n",
    "num_cols = df.select_dtypes(include=['float64', 'int64']).columns.tolist()\n",
    "\n",
    "# Checking skewness for numerical columns\n",
    "skewness = df[num_cols].skew()\n",
    "print(skewness)"
   ]
  },
  {
   "cell_type": "code",
   "execution_count": 74,
   "id": "ecff6b0e",
   "metadata": {},
   "outputs": [
    {
     "name": "stdout",
     "output_type": "stream",
     "text": [
      "id is not skewed \n",
      "Age is not skewed \n",
      "Annual Income is not skewed \n",
      "Number of Dependents is not skewed \n",
      "Health Score is not skewed \n",
      "Previous Claims is not skewed \n",
      "Vehicle Age is not skewed \n",
      "Credit Score is not skewed \n",
      "Premium Amount is not skewed \n"
     ]
    }
   ],
   "source": [
    "skew_cols = []\n",
    "for col in num_cols:\n",
    "    if df[col].skew() > 0.5 or df[col].skew() < -0.5:\n",
    "        print(f\"{col} is skewed with a skewness of {df[col].skew()}\")\n",
    "        skew_cols.append(col)\n",
    "    else:\n",
    "        print(f\"{col} is not skewed \")"
   ]
  },
  {
   "cell_type": "code",
   "execution_count": 58,
   "id": "e733bfa4",
   "metadata": {},
   "outputs": [
    {
     "data": {
      "text/plain": [
       "['Annual Income', 'Previous Claims', 'Premium Amount']"
      ]
     },
     "execution_count": 58,
     "metadata": {},
     "output_type": "execute_result"
    }
   ],
   "source": [
    "skew_cols"
   ]
  },
  {
   "cell_type": "code",
   "execution_count": 59,
   "id": "797d7ba4",
   "metadata": {},
   "outputs": [],
   "source": [
    "from scipy.stats import boxcox"
   ]
  },
  {
   "cell_type": "code",
   "execution_count": 73,
   "id": "bd4d00ff",
   "metadata": {},
   "outputs": [
    {
     "name": "stdout",
     "output_type": "stream",
     "text": [
      "Annual Income is not skewed \n",
      "Previous Claims is not skewed \n",
      "Premium Amount is not skewed \n"
     ]
    }
   ],
   "source": [
    "for col in skew_cols:\n",
    "    # Fill NaNs with mean before Box-Cox transformation\n",
    "    df[col] = df[col].fillna(df[col].mean())\n",
    "    # Ensure all values are positive for Box-Cox transformation\n",
    "    if (df[col] <= 0).any():\n",
    "        df[col] = df[col] + abs(df[col].min()) + 1\n",
    "\n",
    "    df[col], _ = boxcox(df[col])\n",
    "    if df[col].skew() > 0.5 or df[col].skew() < -0.5:\n",
    "        print(f\"{col} is skewed with a skewness of {df[col].skew()}\")\n",
    "    else:\n",
    "        print(f\"{col} is not skewed \")\n"
   ]
  },
  {
   "cell_type": "code",
   "execution_count": 71,
   "id": "892324bd",
   "metadata": {},
   "outputs": [
    {
     "name": "stderr",
     "output_type": "stream",
     "text": [
      "C:\\Users\\iaman\\AppData\\Local\\Temp\\ipykernel_18288\\3708670397.py:2: FutureWarning: A value is trying to be set on a copy of a DataFrame or Series through chained assignment using an inplace method.\n",
      "The behavior will change in pandas 3.0. This inplace method will never work because the intermediate object on which we are setting values always behaves as a copy.\n",
      "\n",
      "For example, when doing 'df[col].method(value, inplace=True)', try using 'df.method({col: value}, inplace=True)' or df[col] = df[col].method(value) instead, to perform the operation inplace on the original object.\n",
      "\n",
      "\n",
      "  df[col].fillna(df[col].mean(), inplace = True)\n"
     ]
    }
   ],
   "source": [
    "for col in num_cols:\n",
    "    df[col].fillna(df[col].mean(), inplace = True)"
   ]
  },
  {
   "cell_type": "code",
   "execution_count": 69,
   "id": "61a29795",
   "metadata": {},
   "outputs": [
    {
     "name": "stderr",
     "output_type": "stream",
     "text": [
      "C:\\Users\\iaman\\AppData\\Local\\Temp\\ipykernel_18288\\1833504157.py:2: FutureWarning: A value is trying to be set on a copy of a DataFrame or Series through chained assignment using an inplace method.\n",
      "The behavior will change in pandas 3.0. This inplace method will never work because the intermediate object on which we are setting values always behaves as a copy.\n",
      "\n",
      "For example, when doing 'df[col].method(value, inplace=True)', try using 'df.method({col: value}, inplace=True)' or df[col] = df[col].method(value) instead, to perform the operation inplace on the original object.\n",
      "\n",
      "\n",
      "  df[col].fillna(df[col].mode()[0], inplace = True)\n"
     ]
    }
   ],
   "source": [
    "for col in cat_cols:\n",
    "    df[col].fillna(df[col].mode()[0], inplace = True)"
   ]
  },
  {
   "cell_type": "code",
   "execution_count": 72,
   "id": "bd67faae",
   "metadata": {},
   "outputs": [
    {
     "data": {
      "text/plain": [
       "id                      0\n",
       "Age                     0\n",
       "Gender                  0\n",
       "Annual Income           0\n",
       "Marital Status          0\n",
       "Number of Dependents    0\n",
       "Education Level         0\n",
       "Occupation              0\n",
       "Health Score            0\n",
       "Location                0\n",
       "Policy Type             0\n",
       "Previous Claims         0\n",
       "Vehicle Age             0\n",
       "Credit Score            0\n",
       "Policy Start Date       0\n",
       "Customer Feedback       0\n",
       "Smoking Status          0\n",
       "Exercise Frequency      0\n",
       "Property Type           0\n",
       "Premium Amount          0\n",
       "dtype: int64"
      ]
     },
     "execution_count": 72,
     "metadata": {},
     "output_type": "execute_result"
    }
   ],
   "source": [
    "df.isnull().sum()"
   ]
  },
  {
   "cell_type": "code",
   "execution_count": null,
   "id": "f0b89c1f",
   "metadata": {},
   "outputs": [],
   "source": []
  }
 ],
 "metadata": {
  "kernelspec": {
   "display_name": "project",
   "language": "python",
   "name": "python3"
  },
  "language_info": {
   "codemirror_mode": {
    "name": "ipython",
    "version": 3
   },
   "file_extension": ".py",
   "mimetype": "text/x-python",
   "name": "python",
   "nbconvert_exporter": "python",
   "pygments_lexer": "ipython3",
   "version": "3.11.13"
  }
 },
 "nbformat": 4,
 "nbformat_minor": 5
}
